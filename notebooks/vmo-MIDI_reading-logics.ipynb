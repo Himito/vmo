{
 "cells": [
  {
   "cell_type": "code",
   "execution_count": 1,
   "metadata": {
    "collapsed": false,
    "tags": [
     "worksheet-0"
    ]
   },
   "outputs": [],
   "source": [
    "%load_ext autoreload\n",
    "%autoreload 2"
   ]
  },
  {
   "cell_type": "code",
   "execution_count": 37,
   "metadata": {
    "collapsed": false,
    "tags": [
     "worksheet-0"
    ]
   },
   "outputs": [],
   "source": [
    "import numpy as np\n",
    "import os.path as path\n",
    "\n",
    "import matplotlib.pyplot as plt\n",
    "%matplotlib inline\n",
    "import sklearn.preprocessing as pre\n",
    "import librosa\n",
    "import music21 as mus\n",
    "\n",
    "import vmo\n",
    "import vmo.analysis as van\n",
    "import vmo.generate as vge\n",
    "# Music analysis\n",
    "import vmo.utils.chromagram as vchroma\n",
    "import vmo.utils.music21_interface as vmusic\n",
    "import vmo.utils.harmonic_changes as vharm\n",
    "# Logics\n",
    "import vmo.logics.model_checking as vmodel"
   ]
  },
  {
   "cell_type": "code",
   "execution_count": 19,
   "metadata": {
    "collapsed": false,
    "tags": [
     "worksheet-0"
    ]
   },
   "outputs": [],
   "source": [
    "midi_path = path.expanduser('~/Musique/midi/')\n",
    "midi_file = 'mozart/sonatina_num_4-mvt_1.mid'\n",
    "\n",
    "\"\"\"Oracle generation.\"\"\"\n",
    "\n",
    "# Generate music21 stream from MIDI file\n",
    "stream = mus.converter.parse(midi_path + midi_file)\n",
    "# Generate VMO from music21 stream\n",
    "oracle = vmusic.from_stream(stream, framesize=1.0, dfunc='tonnetz')"
   ]
  },
  {
   "cell_type": "code",
   "execution_count": 44,
   "metadata": {
    "collapsed": false,
    "tags": [
     "worksheet-0"
    ]
   },
   "outputs": [
    {
     "name": "stdout",
     "output_type": "stream",
     "text": [
      "First two measures:\n",
      "{0.0} <music21.chord.Chord D5 F5>\n",
      "{1.0} <music21.chord.Chord D5 F5>\n",
      "{2.0} <music21.chord.Chord D5 F5>\n",
      "{2.0} <music21.note.Note B->\n",
      "{4.0} <music21.chord.Chord E-5 G5>\n",
      "{4.5} <music21.chord.Chord F5 A5>\n",
      "{5.0} <music21.chord.Chord G5 B-5>\n",
      "{5.5} <music21.chord.Chord E-5 G5>\n",
      "{6.0} <music21.chord.Chord D5 F5>\n",
      "{6.0} <music21.note.Note B->\n",
      "{8.0} <music21.note.Note B->\n",
      "{8.0} <music21.chord.Chord D4 F4>\n",
      "{9.0} <music21.note.Note B->\n",
      "{9.0} <music21.chord.Chord D4 F4>\n",
      "{10.0} <music21.note.Note C>\n",
      "{10.0} <music21.note.Note E->\n",
      "{10.0} <music21.note.Note F>\n",
      "{10.75} <music21.note.Note A>\n",
      "{11.0} <music21.note.Note B->\n",
      "{11.0} <music21.note.Note D>\n",
      "{12.0} <music21.note.Note F>\n",
      "{12.0} <music21.note.Note A>\n",
      "{12.5} <music21.note.Note E>\n",
      "{13.0} <music21.chord.Chord C5 E-5>\n",
      "{13.0} <music21.note.Note B->\n",
      "{13.5} <music21.chord.Chord B-4 D5>\n",
      "{14.0} <music21.chord.Chord C5 E-5>\n",
      "{14.0} <music21.note.Note F>\n",
      "{14.5} <music21.chord.Chord B-4 D5>\n",
      "{15.0} <music21.chord.Chord A4 C5>\n",
      "\n",
      "Extracted progression:\n",
      "['D', 'D', 'B-', 'B-', 'E-', 'E-', 'B-', 'silence', 'B-', 'B-', 'F', 'B-', 'F', 'C', 'B-']\n",
      "\n",
      "Harmonic changes:\n",
      "[2.0, 3.75, 5.25, 6.0, 10.0, 11.0, 12.0, 13.0, 14.5]\n"
     ]
    }
   ],
   "source": [
    "\"\"\"Harmonic changes detection and chord progression extraction.\"\"\"\n",
    "\n",
    "# Extract the sequences of notes from the stream\n",
    "notes = stream.flat.notes\n",
    "# Extract the first 16 quarter-notes\n",
    "_beginning_notes = vmusic.extract_frame(notes, 0., 16.)\n",
    "# Compute offsets of harmonic changes (in quarter-length)\n",
    "harmonic_changes = vharm.from_stream_by_offsets(\n",
    "    _beginning_notes, framesize=1/4.)\n",
    "# Compute the chord progression in the extracted frame\n",
    "prog = vmusic.get_chord_progression(_beginning_notes)\n",
    "\n",
    "print(\"First two measures:\")\n",
    "_beginning_notes.show('text')\n",
    "print(\"\\nExtracted progression:\\n\" + str(prog))\n",
    "print(\"\\nHarmonic changes:\\n\" + str(harmonic_changes))"
   ]
  },
  {
   "cell_type": "code",
   "execution_count": 45,
   "metadata": {
    "collapsed": false,
    "tags": [
     "worksheet-0"
    ]
   },
   "outputs": [],
   "source": [
    "\"\"\"Integrated MIDI playback.\n",
    "\n",
    "Might need some parameters-tweaking to work if midi player binding is not\n",
    "done straight out-of-the-box with music21.\n",
    "\n",
    "In that case, run:\n",
    ">>> from music21 import *\n",
    ">>> us = environment.UserSettings()\n",
    ">>> us.create()\n",
    ">>> us['midiPath'] = <PATH/TO/MIDI/PLAYER>\n",
    ">>> # Example : us['midiPath'] = u'/usr/bin/totem-audio-preview'\n",
    "\"\"\"\n",
    "\n",
    "_beginning_notes.show('midi')"
   ]
  },
  {
   "cell_type": "code",
   "execution_count": 46,
   "metadata": {
    "collapsed": false,
    "tags": [
     "worksheet-0"
    ]
   },
   "outputs": [
    {
     "ename": "TypeError",
     "evalue": "unsupported operand type(s) for -: 'dict' and 'int'",
     "output_type": "error",
     "traceback": [
      "\u001b[1;31m---------------------------------------------------------------------------\u001b[0m",
      "\u001b[1;31mTypeError\u001b[0m                                 Traceback (most recent call last)",
      "\u001b[1;32m<ipython-input-46-7200bc3ae1d5>\u001b[0m in \u001b[0;36m<module>\u001b[1;34m()\u001b[0m\n\u001b[0;32m      9\u001b[0m \u001b[1;33m\u001b[0m\u001b[0m\n\u001b[0;32m     10\u001b[0m \u001b[1;31m# Recompose new stream from extracted path\u001b[0m\u001b[1;33m\u001b[0m\u001b[1;33m\u001b[0m\u001b[0m\n\u001b[1;32m---> 11\u001b[1;33m \u001b[0mextracted\u001b[0m \u001b[1;33m=\u001b[0m \u001b[0mvmusic\u001b[0m\u001b[1;33m.\u001b[0m\u001b[0mpath_to_stream\u001b[0m\u001b[1;33m(\u001b[0m\u001b[0mnotes\u001b[0m\u001b[1;33m,\u001b[0m \u001b[0mpath\u001b[0m\u001b[1;33m)\u001b[0m\u001b[1;33m\u001b[0m\u001b[0m\n\u001b[0m",
      "\u001b[1;32m/home/theis/Documents/python/vmo/vmo/utils/music21_interface.py\u001b[0m in \u001b[0;36mpath_to_stream\u001b[1;34m(original, path, framesize)\u001b[0m\n\u001b[0;32m     94\u001b[0m \u001b[1;33m\u001b[0m\u001b[0m\n\u001b[0;32m     95\u001b[0m     \u001b[1;31m# Accounting for the fact that the first state of any oracle in empty.\u001b[0m\u001b[1;33m\u001b[0m\u001b[1;33m\u001b[0m\u001b[0m\n\u001b[1;32m---> 96\u001b[1;33m     \u001b[0moffsets\u001b[0m \u001b[1;33m=\u001b[0m \u001b[1;33m[\u001b[0m\u001b[0mframesize\u001b[0m \u001b[1;33m*\u001b[0m \u001b[1;33m(\u001b[0m\u001b[0mstate\u001b[0m \u001b[1;33m-\u001b[0m \u001b[1;36m1\u001b[0m\u001b[1;33m)\u001b[0m \u001b[1;32mfor\u001b[0m \u001b[0mstate\u001b[0m \u001b[1;32min\u001b[0m \u001b[0mpath\u001b[0m \u001b[1;32mif\u001b[0m \u001b[0mstate\u001b[0m \u001b[1;33m!=\u001b[0m \u001b[1;36m0\u001b[0m\u001b[1;33m]\u001b[0m\u001b[1;33m\u001b[0m\u001b[0m\n\u001b[0m\u001b[0;32m     97\u001b[0m \u001b[1;33m\u001b[0m\u001b[0m\n\u001b[0;32m     98\u001b[0m     \u001b[1;32mdef\u001b[0m \u001b[0minsertFrame\u001b[0m\u001b[1;33m(\u001b[0m\u001b[0moffset\u001b[0m\u001b[1;33m,\u001b[0m \u001b[0mi\u001b[0m\u001b[1;33m)\u001b[0m\u001b[1;33m:\u001b[0m\u001b[1;33m\u001b[0m\u001b[0m\n",
      "\u001b[1;31mTypeError\u001b[0m: unsupported operand type(s) for -: 'dict' and 'int'"
     ]
    },
    {
     "name": "stdout",
     "output_type": "stream",
     "text": [
      "{'s': '0', 'pitchRoot': 'p_Init'}\n",
      "{'s': '191', 'pitchRoot': 'p_E-'}\n",
      "{'s': '116', 'pitchRoot': 'p_G'}\n",
      "{'s': '127', 'pitchRoot': 'p_B-'}\n",
      "{'s': '116', 'pitchRoot': 'p_G'}\n",
      "{'s': '127', 'pitchRoot': 'p_B-'}\n",
      "{'s': '191', 'pitchRoot': 'p_E-'}\n",
      "{'s': '127', 'pitchRoot': 'p_B-'}\n",
      "{'s': '116', 'pitchRoot': 'p_G'}\n",
      "{'s': '127', 'pitchRoot': 'p_B-'}\n",
      "{'s': '116', 'pitchRoot': 'p_G'}\n"
     ]
    }
   ],
   "source": [
    "\"\"\"Chord-progression extraction.\"\"\"\n",
    "\n",
    "# Two sequences of degrees, we'll try to generate a path following the first\n",
    "# then the second (possibibly with an arbitrary path between both) in `oracle`\n",
    "simple_progs = [[1, 3, 5, 3, 5], [1, 5, 3, 5, 3]]\n",
    "path, chosen_tonic = vmodel.make_piecewise_chord_progression_tonic_free(\n",
    "    oracle, simple_progs)\n",
    "for state in path:\n",
    "    print(state)\n",
    "\n",
    "# Recompose new stream from extracted path\n",
    "extracted = vmusic.path_to_stream(notes, path)"
   ]
  },
  {
   "cell_type": "code",
   "execution_count": null,
   "metadata": {
    "collapsed": false,
    "tags": [
     "worksheet-0"
    ]
   },
   "outputs": [],
   "source": []
  }
 ],
 "metadata": {
  "kernelspec": {
   "display_name": "Python 2",
   "language": "python",
   "name": "python2"
  },
  "language_info": {
   "codemirror_mode": {
    "name": "ipython",
    "version": 2
   },
   "file_extension": ".py",
   "mimetype": "text/x-python",
   "name": "python",
   "nbconvert_exporter": "python",
   "pygments_lexer": "ipython2",
   "version": "2.7.9"
  },
  "name": "vmo_guided_music_synthesis-MIDI.ipynb"
 },
 "nbformat": 4,
 "nbformat_minor": 0
}
