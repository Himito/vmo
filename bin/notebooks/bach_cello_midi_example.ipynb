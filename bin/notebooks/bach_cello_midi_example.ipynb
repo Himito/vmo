{
 "cells": [
  {
   "cell_type": "code",
   "execution_count": 1,
   "metadata": {
    "collapsed": true
   },
   "outputs": [],
   "source": [
    "%load_ext autoreload\n",
    "%autoreload 2"
   ]
  },
  {
   "cell_type": "code",
   "execution_count": 2,
   "metadata": {
    "collapsed": true
   },
   "outputs": [],
   "source": [
    "import vmo\n",
    "import vmo.generate as vge\n",
    "import music21\n",
    "import sys\n",
    "import os"
   ]
  },
  {
   "cell_type": "code",
   "execution_count": 4,
   "metadata": {
    "collapsed": false
   },
   "outputs": [
    {
     "name": "stdout",
     "output_type": "stream",
     "text": [
      "/Users/cheng-iwang/Documents/workspace/vmo/bin/notebooks/../files/Suite_No_1_for_Cello_M1_Prelude.mxl\n"
     ]
    }
   ],
   "source": [
    "filename = os.path.abspath('') + '/../files/Suite_No_1_for_Cello_M1_Prelude.mxl'\n",
    "print filename"
   ]
  },
  {
   "cell_type": "code",
   "execution_count": 6,
   "metadata": {
    "collapsed": true
   },
   "outputs": [],
   "source": [
    "s = music21.converter.parse(filename)\n",
    "c = s.getElementById('Violoncello')\n",
    "m = c.flat.notes\n",
    "note_obj_seq = [x for x in m if type(x) is music21.note.Note]    \n",
    "bo = vmo.build_oracle(note_obj_seq,'f')\n",
    "bo.name = 'bach_cello_example'\n",
    "b, kend, ktrace = vge.generate(bo, len(note_obj_seq), 0.0, 0, LRS=2, weight='weight')"
   ]
  },
  {
   "cell_type": "code",
   "execution_count": 17,
   "metadata": {
    "collapsed": true
   },
   "outputs": [],
   "source": [
    "stream1 = music21.stream.Stream()\n",
    "x = [bo.data[i] for i in b]"
   ]
  },
  {
   "cell_type": "code",
   "execution_count": 26,
   "metadata": {
    "collapsed": false
   },
   "outputs": [
    {
     "ename": "Music21ObjectException",
     "evalue": "cannot support showing in this format yet: /Users/cheng-iwang/Documents/workspace/vmo/bin/notebooks/test.mxl",
     "output_type": "error",
     "traceback": [
      "\u001b[0;31m---------------------------------------------------------------------------\u001b[0m",
      "\u001b[0;31mMusic21ObjectException\u001b[0m                    Traceback (most recent call last)",
      "\u001b[0;32m<ipython-input-26-0003de79c00b>\u001b[0m in \u001b[0;36m<module>\u001b[0;34m()\u001b[0m\n\u001b[1;32m      5\u001b[0m     \u001b[0mstream1\u001b[0m\u001b[0;34m.\u001b[0m\u001b[0mappend\u001b[0m\u001b[0;34m(\u001b[0m\u001b[0m_n\u001b[0m\u001b[0;34m)\u001b[0m\u001b[0;34m\u001b[0m\u001b[0m\n\u001b[1;32m      6\u001b[0m \u001b[0;31m# s.write(os.path.abspath('')+'/../files/Suite_No_1_for_Cello_M1_Prelude.mxl')\u001b[0m\u001b[0;34m\u001b[0m\u001b[0;34m\u001b[0m\u001b[0m\n\u001b[0;32m----> 7\u001b[0;31m \u001b[0mstream1\u001b[0m\u001b[0;34m.\u001b[0m\u001b[0mwrite\u001b[0m\u001b[0;34m(\u001b[0m\u001b[0mos\u001b[0m\u001b[0;34m.\u001b[0m\u001b[0mpath\u001b[0m\u001b[0;34m.\u001b[0m\u001b[0mabspath\u001b[0m\u001b[0;34m(\u001b[0m\u001b[0;34m''\u001b[0m\u001b[0;34m)\u001b[0m\u001b[0;34m+\u001b[0m\u001b[0;34m'/test.mxl'\u001b[0m\u001b[0;34m)\u001b[0m\u001b[0;34m\u001b[0m\u001b[0m\n\u001b[0m",
      "\u001b[0;32m/opt/local/Library/Frameworks/Python.framework/Versions/2.7/lib/python2.7/site-packages/music21/base.pyc\u001b[0m in \u001b[0;36mwrite\u001b[0;34m(self, fmt, fp, **keywords)\u001b[0m\n\u001b[1;32m   2295\u001b[0m         \u001b[0mregularizedConverterFormat\u001b[0m\u001b[0;34m,\u001b[0m \u001b[0munused_ext\u001b[0m \u001b[0;34m=\u001b[0m \u001b[0mcommon\u001b[0m\u001b[0;34m.\u001b[0m\u001b[0mfindFormat\u001b[0m\u001b[0;34m(\u001b[0m\u001b[0mfmt\u001b[0m\u001b[0;34m)\u001b[0m\u001b[0;34m\u001b[0m\u001b[0m\n\u001b[1;32m   2296\u001b[0m         \u001b[0;32mif\u001b[0m \u001b[0mregularizedConverterFormat\u001b[0m \u001b[0;32mis\u001b[0m \u001b[0mNone\u001b[0m\u001b[0;34m:\u001b[0m\u001b[0;34m\u001b[0m\u001b[0m\n\u001b[0;32m-> 2297\u001b[0;31m             \u001b[0;32mraise\u001b[0m \u001b[0mMusic21ObjectException\u001b[0m\u001b[0;34m(\u001b[0m\u001b[0;34m'cannot support showing in this format yet: %s'\u001b[0m \u001b[0;34m%\u001b[0m \u001b[0mfmt\u001b[0m\u001b[0;34m)\u001b[0m\u001b[0;34m\u001b[0m\u001b[0m\n\u001b[0m\u001b[1;32m   2298\u001b[0m \u001b[0;34m\u001b[0m\u001b[0m\n\u001b[1;32m   2299\u001b[0m         \u001b[0mformatSubs\u001b[0m \u001b[0;34m=\u001b[0m \u001b[0mfmt\u001b[0m\u001b[0;34m.\u001b[0m\u001b[0msplit\u001b[0m\u001b[0;34m(\u001b[0m\u001b[0;34m'.'\u001b[0m\u001b[0;34m)\u001b[0m\u001b[0;34m\u001b[0m\u001b[0m\n",
      "\u001b[0;31mMusic21ObjectException\u001b[0m: cannot support showing in this format yet: /Users/cheng-iwang/Documents/workspace/vmo/bin/notebooks/test.mxl"
     ]
    }
   ],
   "source": [
    "for i in range(len(x)):\n",
    "    _n = music21.note.Note(x[i][0].nameWithOctave)\n",
    "    _n.duration.type = x[i][0].duration.type\n",
    "    _n.duration = x[i][0].duration \n",
    "    stream1.append(_n)\n",
    "# s.write(os.path.abspath('')+'/../files/Suite_No_1_for_Cello_M1_Prelude.mxl')\n",
    "# stream1.write(os.path.abspath('')+'/test.mxl')"
   ]
  },
  {
   "cell_type": "code",
   "execution_count": null,
   "metadata": {
    "collapsed": true
   },
   "outputs": [],
   "source": []
  }
 ],
 "metadata": {
  "kernelspec": {
   "display_name": "Python 2",
   "language": "python",
   "name": "python2"
  },
  "language_info": {
   "codemirror_mode": {
    "name": "ipython",
    "version": 2
   },
   "file_extension": ".py",
   "mimetype": "text/x-python",
   "name": "python",
   "nbconvert_exporter": "python",
   "pygments_lexer": "ipython2",
   "version": "2.7.11"
  }
 },
 "nbformat": 4,
 "nbformat_minor": 0
}
