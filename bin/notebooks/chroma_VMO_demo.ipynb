{
 "cells": [
  {
   "cell_type": "code",
   "execution_count": null,
   "metadata": {
    "collapsed": false
   },
   "outputs": [],
   "source": [
    "%load_ext autoreload\n",
    "%autoreload 2"
   ]
  },
  {
   "cell_type": "code",
   "execution_count": null,
   "metadata": {
    "collapsed": true
   },
   "outputs": [],
   "source": [
    "import vmo\n",
    "import numpy as np\n",
    "import scipy.io.wavfile as wav\n",
    "import matplotlib.pyplot as plt\n",
    "from __future__ import division\n",
    "import librosa\n",
    "\n",
    "%matplotlib inline"
   ]
  },
  {
   "cell_type": "code",
   "execution_count": null,
   "metadata": {
    "collapsed": false
   },
   "outputs": [],
   "source": [
    "filename = '../files/hmmtesttoneNoise.wav'\n",
    "fft_size = 8192\n",
    "hop_size = fft_size\n",
    "\n",
    "y, sr = librosa.load(filename)\n",
    "chroma = librosa.feature.chromagram(y=y, sr=sr, n_fft=fft_size, hop_length=hop_size)\n",
    "\n",
    "fs, x = wav.read(filename)\n",
    "x = x/(2**15.0)\n",
    "\n",
    "fig = plt.figure(figsize = (12,4))\n",
    "plt.subplot2grid((2,2),(0,0))\n",
    "plt.plot(np.arange(1024)*(1024.0/44100),x[:1024])\n",
    "plt.title('First 1024-Sample Waveform of the Synthetic Audio Signal', fontsize = 12)\n",
    "plt.xlabel('Time(ms)', fontsize = 12)\n",
    "plt.ylabel('Magnitude', fontsize = 12)\n",
    "plt.axis('tight')\n",
    "plt.grid(b = True)\n",
    "\n",
    "plt.subplot2grid((2,2),(1,0))\n",
    "plt.imshow(chroma, aspect = 'auto', origin = 'lower', interpolation = 'nearest', cmap ='Greys')\n",
    "plt.title('Chromagram of the Synthetic Audio Signal', fontsize = 12)\n",
    "plt.xlabel('Frame number', fontsize = 12)\n",
    "plt.ylabel('Chroma Bin\\n(1 = C, 3 = D ...)', fontsize = 12)\n",
    "fig.tight_layout()\n",
    "\n",
    "plt.subplot2grid((2,2),(0,1),rowspan=2)\n",
    "plt.stem(np.sqrt(np.sum(np.diff(chroma)**2,0)))\n",
    "plt.grid(b = 'on')\n",
    "plt.xlim((0, chroma.shape[1]-1))\n",
    "plt.title('2-norm between Chroma frames', fontsize = 12)\n",
    "plt.xlabel('Frame number', fontsize = 12)\n",
    "plt.ylabel('2-norm', fontsize = 12)\n",
    "plt.tight_layout()"
   ]
  },
  {
   "cell_type": "code",
   "execution_count": null,
   "metadata": {
    "collapsed": false
   },
   "outputs": [],
   "source": [
    "chroma_frames = chroma.transpose()\n",
    "r = (0.0, 1.0, 0.01) \n",
    "ideal_t = vmo.find_threshold(chroma_frames, r, verbose = False, dim=12)\n",
    "oracle = vmo.build_oracle(chroma_frames, flag = 'a',\n",
    "                          threshold = 0.5, feature = 'chroma',\n",
    "                          dim=12)\n",
    "x_a = [i[1] for i in ideal_t[1]]\n",
    "y_a = [i[0] for i in ideal_t[1]]\n",
    "\n",
    "fig = plt.figure(figsize=(12,4))\n",
    "plt.subplot2grid((1,len(oracle.latent)*2),(0,0), colspan = len(oracle.latent))\n",
    "plt.plot(x_a, y_a, linewidth = 2)\n",
    "plt.title('IR vs. Threshold Value', fontsize = 12)\n",
    "plt.grid(b = 'on')\n",
    "plt.xlabel('Threshold', fontsize = 12)\n",
    "plt.ylabel('IR', fontsize = 12)\n",
    "\n",
    "for i in range(len(oracle.latent)):\n",
    "    plt.subplot2grid((1,len(oracle.latent)*2),(0,len(oracle.latent)+i))\n",
    "    plt.title(str(i))\n",
    "    plt.imshow(chroma.transpose()[[_i - 1 for _i in oracle.latent[i]]].transpose(), \n",
    "               aspect = 'auto',origin = 'lower', cmap = 'Greys', interpolation = 'nearest')\n",
    "    plt.xticks(np.arange(len(oracle.latent[i])), [])\n",
    "    if i == 0:\n",
    "        plt.yticks(np.arange(12), ['B','C','','D','','E','F','','G','','A',''])\n",
    "    else:\n",
    "        plt.yticks(np.arange(12), [])\n",
    "    plt.minorticks_off()\n",
    "fig.tight_layout()"
   ]
  },
  {
   "cell_type": "code",
   "execution_count": null,
   "metadata": {
    "collapsed": true
   },
   "outputs": [],
   "source": [
    "print oracle.data[1:]"
   ]
  }
 ],
 "metadata": {
  "kernelspec": {
   "display_name": "Python 2",
   "language": "python",
   "name": "python2"
  },
  "language_info": {
   "codemirror_mode": {
    "name": "ipython",
    "version": 2
   },
   "file_extension": ".py",
   "mimetype": "text/x-python",
   "name": "python",
   "nbconvert_exporter": "python",
   "pygments_lexer": "ipython2",
   "version": "2.7.10"
  }
 },
 "nbformat": 4,
 "nbformat_minor": 0
}
