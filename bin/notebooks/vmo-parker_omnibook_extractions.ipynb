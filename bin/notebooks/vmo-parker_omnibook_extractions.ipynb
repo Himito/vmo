{
 "cells": [
  {
   "cell_type": "code",
   "execution_count": null,
   "metadata": {
    "collapsed": false,
    "tags": [
     "worksheet-0"
    ]
   },
   "outputs": [],
   "source": [
    "%load_ext autoreload\n",
    "%autoreload 2"
   ]
  },
  {
   "cell_type": "code",
   "execution_count": null,
   "metadata": {
    "collapsed": false,
    "tags": [
     "worksheet-0"
    ]
   },
   "outputs": [],
   "source": [
    "import numpy as np\n",
    "import os.path as path\n",
    "\n",
    "import matplotlib.pyplot as plt\n",
    "%matplotlib inline\n",
    "import sklearn.preprocessing as pre\n",
    "# import librosa\n",
    "import music21 as mus\n",
    "\n",
    "import vmo\n",
    "import vmo.analysis as van\n",
    "import vmo.generate as vge\n",
    "# Music analysis\n",
    "import vmo.utils.chromagram as vchroma\n",
    "import vmo.utils.music21_interface as vmusic\n",
    "import vmo.utils.harmonic_changes as vharm\n",
    "# Logics\n",
    "import vmo.logics.model_checking as vmodel"
   ]
  },
  {
   "cell_type": "code",
   "execution_count": null,
   "metadata": {
    "collapsed": true
   },
   "outputs": [],
   "source": [
    "## Midi file access\n",
    "midi_path = path.expanduser('~/Musique/midi/')\n",
    "titles = ['blues_for_alice', 'marmaduke',\n",
    "          'now_s_the_time', 'ornithology']\n",
    "def make_filename(title):\n",
    "    midi_file = 'charlie_parker/omnibook/' + title + '.mid'\n",
    "    return midi_path + midi_file\n",
    "    \n",
    "\"\"\"Oracle generation.\"\"\"\n",
    "\n",
    "# Generate music21 stream from MIDI file\n",
    "\n",
    "# Choose whether all pieces should be concatenated as a corpus\n",
    "concatenate = False\n",
    "\n",
    "if concatenate:\n",
    "    # Initialize new, empty stream\n",
    "    notes = mus.stream.Stream()\n",
    "    for title in titles:\n",
    "        # Aggregate all four titles\n",
    "        stream_full_band = mus.converter.parse(make_filename(title))\n",
    "        stream_piano = stream_full_band[2]\n",
    "        flat_piano = stream_piano.flat.notesAndRests.quantize()\n",
    "        \n",
    "        duration = flat_piano.duration.quarterLength\n",
    "        delta_quadratura = duration % 4\n",
    "        flat_piano.append(mus.note.Rest(delta_quadratura))\n",
    "        \n",
    "        notes.append(flat_piano.flat.notesAndRests.quantize())\n",
    "    notes = notes.flat.notesAndRests.quantize()\n",
    "    chosen_title = 'Concatenation'\n",
    "else:\n",
    "    chosen_title = titles[3]  # Choose among the proposed titles\n",
    "    stream_full_band = mus.converter.parse(make_filename(chosen_title))\n",
    "    stream_piano = stream_full_band[2]\n",
    "    notes = stream_piano.flat.notesAndRests.quantize()"
   ]
  },
  {
   "cell_type": "code",
   "execution_count": null,
   "metadata": {
    "collapsed": false,
    "tags": [
     "worksheet-0"
    ]
   },
   "outputs": [],
   "source": [
    "# Generate VMO from music21 stream\n",
    "oracle = vmusic.from_stream(notes, framesize=4.0, dfunc='tonnetz', threshold=2)"
   ]
  },
  {
   "cell_type": "code",
   "execution_count": null,
   "metadata": {
    "collapsed": false
   },
   "outputs": [],
   "source": [
    "notes.flat.notesAndRests.show('text')\n",
    "chosen_title\n",
    "# notes.show('midi')"
   ]
  },
  {
   "cell_type": "code",
   "execution_count": null,
   "metadata": {
    "collapsed": false,
    "scrolled": true,
    "tags": [
     "worksheet-0"
    ]
   },
   "outputs": [],
   "source": [
    "\"\"\"Harmonic changes detection and chord progression extraction.\"\"\"\n",
    "\n",
    "# Extract the first 16 quarter-notes\n",
    "_beginning_notes = vmusic.extract_frame(notes, 0., 32.)\n",
    "# Compute offsets of harmonic changes (in quarter-length)\n",
    "harmonic_changes = vharm.from_stream_by_offsets(\n",
    "    _beginning_notes, framesize=1/4.)\n",
    "# Compute the chord progression in the extracted frame\n",
    "prog = vmusic.get_chord_progression(_beginning_notes)\n",
    "\n",
    "print(\"First two measures:\")\n",
    "_beginning_notes.show('text')\n",
    "print(\"\\nExtracted progression:\\n\" + str(prog))\n",
    "print(\"\\nHarmonic changes:\\n\" + str(harmonic_changes))"
   ]
  },
  {
   "cell_type": "code",
   "execution_count": null,
   "metadata": {
    "collapsed": false,
    "tags": [
     "worksheet-0"
    ]
   },
   "outputs": [],
   "source": [
    "# Extract one frame from the oracle using the original stream\n",
    "vmusic.extract_frame_oracle(notes.flat, oracle, 6).flat.show('text')"
   ]
  },
  {
   "cell_type": "code",
   "execution_count": null,
   "metadata": {
    "collapsed": false,
    "tags": [
     "worksheet-0"
    ]
   },
   "outputs": [],
   "source": [
    "\"\"\"Integrated MIDI playback.\n",
    "\n",
    "Might need some parameters-tweaking to work if midi player binding is not\n",
    "done straight out-of-the-box with music21.\n",
    "\n",
    "In that case, run:\n",
    ">>> from music21 import *\n",
    ">>> us = environment.UserSettings()\n",
    ">>> us.create()\n",
    ">>> us['midiPath'] = <PATH/TO/MIDI/PLAYER>\n",
    ">>> # Example : us['midiPath'] = u'/usr/bin/totem-audio-preview'\n",
    "\"\"\"\n",
    "\n",
    "# _beginning_notes.show('midi')"
   ]
  },
  {
   "cell_type": "code",
   "execution_count": null,
   "metadata": {
    "collapsed": false,
    "tags": [
     "worksheet-0"
    ]
   },
   "outputs": [],
   "source": [
    "\"\"\"Chord-progression extraction.\"\"\"\n",
    "# Two sequences of degrees. We will try to generate a path following the first\n",
    "# then the second (possibibly with a non-empty arbitrary path between both) in `oracle`\n",
    "\n",
    "prog_1 = [[1, 4, 7, 3, 6, 7, 3, 6]]\n",
    "prog_2 = [[1, 4, 2, 5, 1, 6, 2, 5]]\n",
    "\n",
    "gen_path_1, chosen_tonic_1 = vmodel.make_progression_from_degrees(\n",
    "    oracle, prog_1, original_stream=notes, enable_motions=True)\n",
    "gen_path_2, chosen_tonic_2 = vmodel.make_progression_from_degrees(\n",
    "    oracle, prog_2, original_stream=notes, enable_motions=True)\n",
    "\n",
    "def path_printer(path, tonic):\n",
    "    if path:\n",
    "        print(\"A path has successfully been generated!\")\n",
    "        print(\"The chosen tonic is: \" + tonic)\n",
    "        print(\"\\nThe path is the following: \\n\")\n",
    "        for state in path:\n",
    "            print(state)\n",
    "    else:\n",
    "        print(\"No path was found.\")\n",
    "\n",
    "print(\"Path 1\\n\")\n",
    "path_printer(gen_path_1, chosen_tonic_1)\n",
    "\n",
    "print(\"\\n===\\n\\nPath 2\\n\")\n",
    "path_printer(gen_path_2, chosen_tonic_2)\n"
   ]
  },
  {
   "cell_type": "code",
   "execution_count": null,
   "metadata": {
    "collapsed": false,
    "tags": [
     "worksheet-0"
    ]
   },
   "outputs": [],
   "source": [
    "def midiSave(stream, filename):\n",
    "    mf = mus.midi.translate.streamToMidiFile(stream)\n",
    "    mf.open(filename + '.mid', 'wb')\n",
    "    mf.write()\n",
    "\n",
    "# Recompose new stream from extracted path\n",
    "\n",
    "if gen_path_1:\n",
    "    extracted_1 = vmusic.path_to_stream(notes, gen_path_1[0:-1], framesize=4.0).quantize()\n",
    "    midiSave(extracted_1, chosen_title + '_genpath_1')\n",
    "    print(vmusic.get_chord_progression(extracted_1, framesize=4.0))\n",
    "    \n",
    "    # Plot piano roll of the extracted stream\n",
    "    extracted_1.plot('pianoroll')\n",
    "    \n",
    "if gen_path_2:\n",
    "    extracted_2 = vmusic.path_to_stream(notes, gen_path_2[0:-1], framesize=4.0).quantize()\n",
    "    midiSave(extracted_2, chosen_title + '_genpath_2')\n",
    "    print(vmusic.get_chord_progression(extracted_2, framesize=4.0))\n",
    "    \n",
    "    # Plot piano roll of the extracted stream\n",
    "    extracted_2.plot('pianoroll')"
   ]
  },
  {
   "cell_type": "code",
   "execution_count": null,
   "metadata": {
    "collapsed": true
   },
   "outputs": [],
   "source": [
    "extracted_1.show('midi')"
   ]
  },
  {
   "cell_type": "code",
   "execution_count": null,
   "metadata": {
    "collapsed": true
   },
   "outputs": [],
   "source": [
    "extracted_2.show('midi')"
   ]
  }
 ],
 "metadata": {
  "kernelspec": {
   "display_name": "Python 2",
   "language": "python",
   "name": "python2"
  },
  "language_info": {
   "codemirror_mode": {
    "name": "ipython",
    "version": 2
   },
   "file_extension": ".py",
   "mimetype": "text/x-python",
   "name": "python",
   "nbconvert_exporter": "python",
   "pygments_lexer": "ipython2",
   "version": "2.7.10"
  },
  "name": "vmo-MIDI_reading-logics.ipynb"
 },
 "nbformat": 4,
 "nbformat_minor": 0
}
