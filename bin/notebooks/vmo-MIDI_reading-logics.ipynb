{
 "cells": [
  {
   "cell_type": "code",
   "execution_count": null,
   "metadata": {
    "collapsed": false,
    "tags": [
     "worksheet-0"
    ]
   },
   "outputs": [],
   "source": [
    "%load_ext autoreload\n",
    "%autoreload 2"
   ]
  },
  {
   "cell_type": "code",
   "execution_count": null,
   "metadata": {
    "collapsed": false,
    "tags": [
     "worksheet-0"
    ]
   },
   "outputs": [],
   "source": [
    "import numpy as np\n",
    "import os.path as path\n",
    "\n",
    "import matplotlib.pyplot as plt\n",
    "%matplotlib inline\n",
    "import sklearn.preprocessing as pre\n",
    "import librosa\n",
    "import music21 as mus\n",
    "\n",
    "import vmo\n",
    "import vmo.analysis as van\n",
    "import vmo.generate as vge\n",
    "# Music analysis\n",
    "import vmo.utils.chromagram as vchroma\n",
    "import vmo.utils.music21_interface as vmusic\n",
    "import vmo.utils.harmonic_changes as vharm\n",
    "# Logics\n",
    "import vmo.logics.model_checking as vmodel"
   ]
  },
  {
   "cell_type": "code",
   "execution_count": null,
   "metadata": {
    "collapsed": false,
    "tags": [
     "worksheet-0"
    ]
   },
   "outputs": [],
   "source": [
    "midi_path = path.expanduser('~/Musique/midi/')\n",
    "midi_file = 'mozart/sonatina_num_4-mvt_1.mid'\n",
    "\n",
    "\"\"\"Oracle generation.\"\"\"\n",
    "\n",
    "# Generate music21 stream from MIDI file\n",
    "stream = mus.converter.parse(midi_path + midi_file)\n",
    "# Generate VMO from music21 stream\n",
    "oracle = vmusic.from_stream(stream.flat.notes[:30], framesize=1.0, dfunc='tonnetz')"
   ]
  },
  {
   "cell_type": "code",
   "execution_count": null,
   "metadata": {
    "collapsed": false,
    "tags": [
     "worksheet-0"
    ]
   },
   "outputs": [],
   "source": [
    "vmusic.extract_frame_oracle(stream.flat, oracle, 5).flat.show('text')"
   ]
  },
  {
   "cell_type": "code",
   "execution_count": null,
   "metadata": {
    "collapsed": false,
    "tags": [
     "worksheet-0"
    ]
   },
   "outputs": [],
   "source": [
    "\"\"\"Integrated MIDI playback.\n",
    "\n",
    "Might need some parameters-tweaking to work if midi player binding is not\n",
    "done straight out-of-the-box with music21.\n",
    "\n",
    "In that case, run:\n",
    ">>> from music21 import *\n",
    ">>> us = environment.UserSettings()\n",
    ">>> us.create()\n",
    ">>> us['midiPath'] = <PATH/TO/MIDI/PLAYER>\n",
    ">>> # Example : us['midiPath'] = u'/usr/bin/totem-audio-preview'\n",
    "\"\"\"\n",
    "\n",
    "_beginning_notes.show('midi')"
   ]
  },
  {
   "cell_type": "code",
   "execution_count": null,
   "metadata": {
    "collapsed": false,
    "tags": [
     "worksheet-0"
    ]
   },
   "outputs": [],
   "source": [
    "\"\"\"Harmonic changes detection and chord progression extraction.\"\"\"\n",
    "\n",
    "# Extract the sequences of notes from the stream\n",
    "notes = stream.flat.notes\n",
    "# Extract the first 16 quarter-notes\n",
    "_beginning_notes = vmusic.extract_frame(notes, 0., 16.)\n",
    "# Compute offsets of harmonic changes (in quarter-length)\n",
    "harmonic_changes = vharm.from_stream_by_offsets(\n",
    "    _beginning_notes, framesize=1/4.)\n",
    "# Compute the chord progression in the extracted frame\n",
    "prog = vmusic.get_chord_progression(_beginning_notes)\n",
    "\n",
    "print(\"First two measures:\")\n",
    "_beginning_notes.show('text')\n",
    "print(\"\\nExtracted progression:\\n\" + str(prog))\n",
    "print(\"\\nHarmonic changes:\\n\" + str(harmonic_changes))"
   ]
  },
  {
   "cell_type": "code",
   "execution_count": null,
   "metadata": {
    "collapsed": false,
    "tags": [
     "worksheet-0"
    ]
   },
   "outputs": [],
   "source": [
    "import vmo.utils.nuxmv.model as numodel\n",
    "print(numodel.print_oracle(oracle, original_stream=stream))"
   ]
  },
  {
   "cell_type": "code",
   "execution_count": null,
   "metadata": {
    "collapsed": false,
    "tags": [
     "worksheet-0"
    ]
   },
   "outputs": [],
   "source": [
    "\"\"\"Chord-progression extraction.\"\"\"\n",
    "# Two sequences of degrees, we'll try to generate a path following the first\n",
    "# then the second (possibibly with an arbitrary path between both) in `oracle`\n",
    "simple_progs = [[1, '3', 5, 3, 5], [1, 5, 3, 5, 3]]\n",
    "gen_path, chosen_tonic = vmodel.make_piecewise_chord_progression_tonic_free(\n",
    "    oracle, simple_progs, original_stream=stream)\n",
    "\n",
    "if gen_path:\n",
    "    print(\"A path has been geenerated!\")\n",
    "    print(\"The chosen tonic is: \" + chosen_tonic)\n",
    "    print(\"\\nThe path is the following: \\n\")\n",
    "    for state in gen_path:\n",
    "\tprint(state)"
   ]
  },
  {
   "cell_type": "code",
   "execution_count": null,
   "metadata": {
    "collapsed": false,
    "tags": [
     "worksheet-0"
    ]
   },
   "outputs": [],
   "source": [
    "# Recompose new stream from extracted path\n",
    "extracted = vmusic.path_to_stream(notes, gen_path)\n",
    "# Plot piano roll of the extrated stream\n",
    "extracted.plot('pianoroll')\n"
   ]
  },
  {
   "cell_type": "code",
   "execution_count": null,
   "metadata": {
    "collapsed": false,
    "tags": [
     "worksheet-0"
    ]
   },
   "outputs": [],
   "source": []
  }
 ],
 "metadata": {
  "kernelspec": {
   "display_name": "Python 2",
   "language": "python",
   "name": "python2"
  },
  "language_info": {
   "codemirror_mode": {
    "name": "ipython",
    "version": 2
   },
   "file_extension": ".py",
   "mimetype": "text/x-python",
   "name": "python",
   "nbconvert_exporter": "python",
   "pygments_lexer": "ipython2",
   "version": "2.7.9"
  },
  "name": "vmo-MIDI_reading-logics.ipynb"
 },
 "nbformat": 4,
 "nbformat_minor": 0
}
